{
 "cells": [
  {
   "cell_type": "markdown",
   "metadata": {},
   "source": [
    "## 4. 如何计算投资组合风险？"
   ]
  },
  {
   "cell_type": "markdown",
   "metadata": {},
   "source": [
    "## 目录\n",
    "1. 什么是Markowitz方差组合模型？\n",
    "2. Portfolioopt的输入格式是什么？\n",
    "3. 如何计算组合风险？\n",
    "4. 如何将Markowitz可视化？"
   ]
  },
  {
   "cell_type": "markdown",
   "metadata": {},
   "source": [
    "## 什么是Markowitz方差组合模型？\n",
    "马克维茨投资组合理论的基本假设为：\n",
    "\n",
    "(1)投资者是风险规避的，追求期望效用最大化；\n",
    "\n",
    "(2)投资者根据收益率的期望值与方差来选择投资组合；\n",
    "\n",
    "(3)所有投资者处于同一单期投资期。马克维茨提出了以期望收益及其方差(E，δ2)确定有效投资组合。"
   ]
  },
  {
   "cell_type": "markdown",
   "metadata": {},
   "source": [
    "## Portfolioopt的输入格式是什么？\n",
    "安装Portfolioopt: pip install Portfolioopt"
   ]
  },
  {
   "cell_type": "code",
   "execution_count": 12,
   "metadata": {
    "collapsed": false,
    "scrolled": true
   },
   "outputs": [
    {
     "name": "stdout",
     "output_type": "stream",
     "text": [
      "              000001    600036    600050\n",
      "date                                    \n",
      "2015-01-06 -0.015000 -0.015595 -0.017161\n",
      "2015-01-07 -0.019058 -0.015842  0.036706\n",
      "2015-01-08 -0.033524 -0.036468 -0.059713\n",
      "2015-01-09  0.007982  0.008942 -0.011805\n",
      "2015-01-12 -0.020530 -0.007008 -0.026159\n"
     ]
    }
   ],
   "source": [
    "import pandas as pd\n",
    "import tushare as ts\n",
    "import numpy as np\n",
    "import portfolioopt as opt\n",
    "import matplotlib.pyplot as plt\n",
    "\n",
    "codes = ['000001', '600036', '600050']\n",
    "stocks_dict = {}\n",
    "for c in codes:\n",
    "    stock = ts.get_k_data(c, start='2015-01-01', end='2016-12-31', ktype='D', autype='qfq')\n",
    "    stock.index = pd.to_datetime(stock['date'], format='%Y-%m-%d')\n",
    "    stock.pop('date')\n",
    "    stocks_dict[c] = stock\n",
    "\n",
    "pn = pd.Panel(stocks_dict)\n",
    "data_r = pn.minor_xs('close').pct_change()[1:]\n",
    "print data_r.head()"
   ]
  },
  {
   "cell_type": "code",
   "execution_count": 13,
   "metadata": {
    "collapsed": false
   },
   "outputs": [
    {
     "name": "stdout",
     "output_type": "stream",
     "text": [
      "000001   -0.031542\n",
      "600036    0.122707\n",
      "600050    0.326700\n",
      "dtype: float64\n",
      "          000001    600036    600050\n",
      "000001  0.120180  0.086552  0.107306\n",
      "600036  0.086552  0.110099  0.079702\n",
      "600050  0.107306  0.079702  0.287795\n"
     ]
    }
   ],
   "source": [
    "#主要的两个输入模式\n",
    "exp_rets = data_r.mean()*252\n",
    "cov_mat = data_r.cov()*252\n",
    "print exp_rets\n",
    "print cov_mat"
   ]
  },
  {
   "cell_type": "code",
   "execution_count": 14,
   "metadata": {
    "collapsed": false
   },
   "outputs": [
    {
     "name": "stdout",
     "output_type": "stream",
     "text": [
      "000001    2.983516e-07\n",
      "600036    6.210984e-01\n",
      "600050    3.789013e-01\n",
      "dtype: float64\n"
     ]
    }
   ],
   "source": [
    "#计算目标收益的权重\n",
    "portfolio_1 = opt.markowitz_portfolio(cov_mat, exp_rets, 0.2, allow_short=False, market_neutral=False)\n",
    "print portfolio_1"
   ]
  },
  {
   "cell_type": "code",
   "execution_count": 15,
   "metadata": {
    "collapsed": false,
    "scrolled": true
   },
   "outputs": [
    {
     "name": "stdout",
     "output_type": "stream",
     "text": [
      "000001    0.368526\n",
      "600036    0.583059\n",
      "600050    0.048415\n",
      "dtype: float64\n"
     ]
    }
   ],
   "source": [
    "#计算最小方差的权重\n",
    "portfolio_mv = opt.min_var_portfolio(cov_mat, allow_short=False)\n",
    "print portfolio_mv"
   ]
  },
  {
   "cell_type": "code",
   "execution_count": 16,
   "metadata": {
    "collapsed": false,
    "scrolled": true
   },
   "outputs": [
    {
     "name": "stdout",
     "output_type": "stream",
     "text": [
      "000001    2.382544e-08\n",
      "600036    2.615461e-01\n",
      "600050    7.384539e-01\n",
      "dtype: float64\n"
     ]
    }
   ],
   "source": [
    "#计算最优组合的权重\n",
    "portfolio_tp = opt.tangency_portfolio(cov_mat, exp_rets, allow_short=False)\n",
    "print portfolio_tp"
   ]
  },
  {
   "cell_type": "code",
   "execution_count": 17,
   "metadata": {
    "collapsed": false
   },
   "outputs": [
    {
     "name": "stdout",
     "output_type": "stream",
     "text": [
      "000001    0.000000\n",
      "600036    0.261546\n",
      "600050    0.738454\n",
      "dtype: float64\n"
     ]
    }
   ],
   "source": [
    "#去除少于0.01权重的股票\n",
    "weigth_t = opt.truncate_weights(portfolio_tp, min_weight=0.01, rescale=True)\n",
    "print weigth_t"
   ]
  },
  {
   "cell_type": "markdown",
   "metadata": {},
   "source": [
    "## 如何计算组合风险？\n",
    "$Portfolio Variance = x'\\sum x$\n",
    "\n",
    "x = weights\n",
    "\n",
    "$\\sum = Cov$"
   ]
  },
  {
   "cell_type": "code",
   "execution_count": 18,
   "metadata": {
    "collapsed": false
   },
   "outputs": [
    {
     "name": "stdout",
     "output_type": "stream",
     "text": [
      "0.441879365552\n"
     ]
    }
   ],
   "source": [
    "Portfolio_v = np.dot(weigth_t.T, np.dot(cov_mat,weigth_t))\n",
    "P_sigma = np.sqrt(Portfolio_v)\n",
    "print P_sigma"
   ]
  },
  {
   "cell_type": "markdown",
   "metadata": {},
   "source": [
    "## 如何将Markowitz可视化？"
   ]
  },
  {
   "cell_type": "code",
   "execution_count": 19,
   "metadata": {
    "collapsed": false
   },
   "outputs": [
    {
     "name": "stdout",
     "output_type": "stream",
     "text": [
      "('sharpe:', 0.52807697151259214)\n"
     ]
    },
    {
     "data": {
      "image/png": "[encoded data removed]",
      "text/plain": [
       "<matplotlib.figure.Figure at 0x560e24a8>"
      ]
     },
     "metadata": {},
     "output_type": "display_data"
    }
   ],
   "source": [
    "port_returns = []\n",
    "port_variance = []\n",
    "for p in range(4000):\n",
    "    weights = np.random.rand(len(data_r.T))\n",
    "    weights /= np.sum(weights)\n",
    "    port_returns.append(np.sum(data_r.mean()*252*weights))\n",
    "    port_variance.append(np.sqrt(np.dot(weights.T, np.dot(cov_mat,weights))))\n",
    "port_returns = np.array(port_returns)\n",
    "port_variance = np.array(port_variance)\n",
    "\n",
    "risk_free = 0.04\n",
    "P_r = np.sum(exp_rets*weigth_t)\n",
    "sharpe = (P_r-risk_free)/P_sigma\n",
    "print('sharpe:', sharpe)\n",
    "\n",
    "plt.figure(figsize = (8,4))\n",
    "plt.scatter(port_variance, port_returns, c=(port_returns-risk_free)/port_variance, marker='o')\n",
    "plt.grid(True)\n",
    "plt.xlabel('excepted volatility')\n",
    "plt.ylabel('expected return')\n",
    "plt.colorbar(label='Sharpe ratio')\n",
    "plt.scatter(P_sigma, P_r, c='r', marker='*')\n",
    "plt.show()"
   ]
  },
  {
   "cell_type": "markdown",
   "metadata": {},
   "source": [
    "## 作业\n",
    "选择三只或以上的股票，用Portfolioopt 将最优组合算出来，并将其可视化。"
   ]
  }
 ],
 "metadata": {
  "kernelspec": {
   "display_name": "Python 2",
   "language": "python",
   "name": "python2"
  },
  "language_info": {
   "codemirror_mode": {
    "name": "ipython",
    "version": 2
   },
   "file_extension": ".py",
   "mimetype": "text/x-python",
   "name": "python",
   "nbconvert_exporter": "python",
   "pygments_lexer": "ipython2",
   "version": "2.7.13"
  }
 },
 "nbformat": 4,
 "nbformat_minor": 2
}
