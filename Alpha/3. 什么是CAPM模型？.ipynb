{
 "cells": [
  {
   "cell_type": "markdown",
   "metadata": {},
   "source": [
    "# 3. 什么是CAPM模型？\n",
    "*Alpha与Beta模型*"
   ]
  },
  {
   "cell_type": "markdown",
   "metadata": {},
   "source": [
    "## 目录\n",
    "1. Alpha与Beta分别是什么？\n",
    "2. CAPM是什么？\n",
    "3. 如何计算股票与大盘的相关性？\n",
    "4. 如何用图形显示CAPM模型？\n",
    "5. 如何对模型做方差分析？"
   ]
  },
  {
   "cell_type": "markdown",
   "metadata": {},
   "source": [
    "## Alpha与Beta分别是什么？\n",
    "\n",
    "Alpha指的是投资者所获得的超额回报，即高于或低于其业绩基准的市场指数。\n",
    "Beta是一种衡量风险的方法，可以应用于个股或股票投资组合。Beta系数较高的股票通常会对市场或宏观经济新闻具有更加不稳定的波动。\n",
    "\n",
    "### Beta算法：\n",
    "\n",
    "$B_x = \\frac{\\sigma_{x,m}}{\\sigma^2_m}$\n",
    "\n",
    "$P_{x,m} = \\frac{\\sigma_{x,m}}{\\sigma_x\\sigma_m}$\n",
    "\n",
    "$B_x=p_{x,m}*\\frac{\\sigma_x}{\\sigma_m}$"
   ]
  },
  {
   "cell_type": "markdown",
   "metadata": {},
   "source": [
    "## CAPM模型是什么？\n",
    "CAPM模型公式：\n",
    "\n",
    "$R_x-R_f=a_x+B_x(R_m-R_f)+\\epsilon$"
   ]
  },
  {
   "cell_type": "markdown",
   "metadata": {},
   "source": [
    "## 如何计算股票与大盘的相关性？\n",
    "协方差（Covariance）:\n",
    "\n",
    "$cov(X,Y) = \\frac {\\sum_{i=1}^n(X_i-\\overline X)^2(Y_i-\\overline Y)^2}{n-1}$\n",
    "\n",
    "相关系数（Correlation）：\n",
    "\n",
    "$cor(X,Y) = \\frac {Cov(X,Y)}{\\sigma X \\sigma Y}$\n"
   ]
  },
  {
   "cell_type": "code",
   "execution_count": 35,
   "metadata": {
    "collapsed": false
   },
   "outputs": [
    {
     "name": "stdout",
     "output_type": "stream",
     "text": [
      "            asset1_r  asset2_r  benchmark_r\n",
      "date                                       \n",
      "2016-01-05  0.008840 -0.004030    -0.002594\n",
      "2016-01-06  0.011434  0.004650     0.022548\n",
      "2016-01-07 -0.051136 -0.036970    -0.070450\n",
      "2016-01-08  0.016368  0.008365     0.019651\n",
      "2016-01-11 -0.032318 -0.045809    -0.053261\n",
      "Correlation coefficients\n",
      "000001 and benchmark:  0.878683134657\n",
      "600036 and benchmark:  0.578278922892\n",
      "000001 and 600036:  0.686454456538\n"
     ]
    }
   ],
   "source": [
    "import numpy as np\n",
    "import pandas as pd\n",
    "import matplotlib.pyplot as plt\n",
    "import tushare as ts\n",
    "\n",
    "asset1 = ts.get_k_data('000001', start='2016-01-01', end='2016-12-31', ktype='D',autype='qfq')\n",
    "asset1.index = pd.to_datetime(asset1['date'], format='%Y-%m-%d')\n",
    "asset1_r = asset1['close'].pct_change()[1:]\n",
    "\n",
    "asset2 = ts.get_k_data('600036', start='2016-01-01', end='2016-12-31', ktype='D',autype='qfq')\n",
    "asset2.index = pd.to_datetime(asset2['date'], format='%Y-%m-%d')\n",
    "asset2_r = asset2['close'].pct_change()[1:]\n",
    "\n",
    "benchmark = ts.get_hist_data('sh', start='2016-01-01', end='2016-12-31', ktype='D')[::-1]\n",
    "benchmark.index = pd.to_datetime(benchmark.index, format='%Y-%m-%d')\n",
    "benchmark_r = benchmark.close.pct_change()[1:]\n",
    "\n",
    "new = pd.concat([asset1_r, asset2_r, benchmark_r], join='inner', axis=1)\n",
    "new.columns = ['asset1_r', 'asset2_r', 'benchmark_r']\n",
    "\n",
    "print new.head()\n",
    "\n",
    "\n",
    "print \"Correlation coefficients\"\n",
    "print \"000001 and benchmark: \", np.corrcoef(new['asset1_r'],new['benchmark_r'])[0,1]\n",
    "print \"600036 and benchmark: \", np.corrcoef(new['asset2_r'],new['benchmark_r'])[0,1]\n",
    "print \"000001 and 600036: \", np.corrcoef(new['asset1_r'],new['asset2_r'])[0,1]"
   ]
  },
  {
   "cell_type": "code",
   "execution_count": 36,
   "metadata": {
    "collapsed": false
   },
   "outputs": [
    {
     "data": {
      "image/png": "[encoded data removed]",
      "text/plain": [
       "<matplotlib.figure.Figure at 0xc437f98>"
      ]
     },
     "metadata": {},
     "output_type": "display_data"
    }
   ],
   "source": [
    "import matplotlib.pyplot as plt\n",
    "\n",
    "plt.scatter(new['asset2_r'], new['benchmark_r'])\n",
    "plt.show()"
   ]
  },
  {
   "cell_type": "code",
   "execution_count": 54,
   "metadata": {
    "collapsed": false
   },
   "outputs": [
    {
     "name": "stdout",
     "output_type": "stream",
     "text": [
      "0.505259237398\n"
     ]
    }
   ],
   "source": [
    "## Beta值计算\n",
    "Beta_asset2 = np.corrcoef(new['asset2_r'],new['benchmark_r'])[0,1]*new['asset2_r'].std()/new['benchmark_r'].std()\n",
    "print Beta_asset2"
   ]
  },
  {
   "cell_type": "markdown",
   "metadata": {},
   "source": [
    "## 用图形显示CAPM模型"
   ]
  },
  {
   "cell_type": "code",
   "execution_count": 37,
   "metadata": {
    "collapsed": false
   },
   "outputs": [
    {
     "data": {
      "text/html": [
       "<table class=\"simpletable\">\n",
       "<caption>OLS Regression Results</caption>\n",
       "<tr>\n",
       "  <th>Dep. Variable:</th>        <td>asset1_r</td>     <th>  R-squared:         </th> <td>   0.772</td>\n",
       "</tr>\n",
       "<tr>\n",
       "  <th>Model:</th>                   <td>OLS</td>       <th>  Adj. R-squared:    </th> <td>   0.771</td>\n",
       "</tr>\n",
       "<tr>\n",
       "  <th>Method:</th>             <td>Least Squares</td>  <th>  F-statistic:       </th> <td>   816.4</td>\n",
       "</tr>\n",
       "<tr>\n",
       "  <th>Date:</th>             <td>Mon, 15 May 2017</td> <th>  Prob (F-statistic):</th> <td>2.39e-79</td>\n",
       "</tr>\n",
       "<tr>\n",
       "  <th>Time:</th>                 <td>15:44:23</td>     <th>  Log-Likelihood:    </th> <td>  917.83</td>\n",
       "</tr>\n",
       "<tr>\n",
       "  <th>No. Observations:</th>      <td>   243</td>      <th>  AIC:               </th> <td>  -1832.</td>\n",
       "</tr>\n",
       "<tr>\n",
       "  <th>Df Residuals:</th>          <td>   241</td>      <th>  BIC:               </th> <td>  -1825.</td>\n",
       "</tr>\n",
       "<tr>\n",
       "  <th>Df Model:</th>              <td>     1</td>      <th>                     </th>     <td> </td>   \n",
       "</tr>\n",
       "<tr>\n",
       "  <th>Covariance Type:</th>      <td>nonrobust</td>    <th>                     </th>     <td> </td>   \n",
       "</tr>\n",
       "</table>\n",
       "<table class=\"simpletable\">\n",
       "<tr>\n",
       "       <td></td>          <th>coef</th>     <th>std err</th>      <th>t</th>      <th>P>|t|</th>  <th>[0.025</th>    <th>0.975]</th>  \n",
       "</tr>\n",
       "<tr>\n",
       "  <th>const</th>       <td> 9.949e-05</td> <td>    0.000</td> <td>    0.279</td> <td> 0.781</td> <td>   -0.001</td> <td>    0.001</td>\n",
       "</tr>\n",
       "<tr>\n",
       "  <th>benchmark_r</th> <td>    0.7358</td> <td>    0.026</td> <td>   28.573</td> <td> 0.000</td> <td>    0.685</td> <td>    0.787</td>\n",
       "</tr>\n",
       "</table>\n",
       "<table class=\"simpletable\">\n",
       "<tr>\n",
       "  <th>Omnibus:</th>       <td>26.382</td> <th>  Durbin-Watson:     </th> <td>   2.012</td>\n",
       "</tr>\n",
       "<tr>\n",
       "  <th>Prob(Omnibus):</th> <td> 0.000</td> <th>  Jarque-Bera (JB):  </th> <td>  67.894</td>\n",
       "</tr>\n",
       "<tr>\n",
       "  <th>Skew:</th>          <td> 0.462</td> <th>  Prob(JB):          </th> <td>1.81e-15</td>\n",
       "</tr>\n",
       "<tr>\n",
       "  <th>Kurtosis:</th>      <td> 5.419</td> <th>  Cond. No.          </th> <td>    72.2</td>\n",
       "</tr>\n",
       "</table>"
      ],
      "text/plain": [
       "<class 'statsmodels.iolib.summary.Summary'>\n",
       "\"\"\"\n",
       "                            OLS Regression Results                            \n",
       "==============================================================================\n",
       "Dep. Variable:               asset1_r   R-squared:                       0.772\n",
       "Model:                            OLS   Adj. R-squared:                  0.771\n",
       "Method:                 Least Squares   F-statistic:                     816.4\n",
       "Date:                Mon, 15 May 2017   Prob (F-statistic):           2.39e-79\n",
       "Time:                        15:44:23   Log-Likelihood:                 917.83\n",
       "No. Observations:                 243   AIC:                            -1832.\n",
       "Df Residuals:                     241   BIC:                            -1825.\n",
       "Df Model:                           1                                         \n",
       "Covariance Type:            nonrobust                                         \n",
       "===============================================================================\n",
       "                  coef    std err          t      P>|t|      [0.025      0.975]\n",
       "-------------------------------------------------------------------------------\n",
       "const        9.949e-05      0.000      0.279      0.781      -0.001       0.001\n",
       "benchmark_r     0.7358      0.026     28.573      0.000       0.685       0.787\n",
       "==============================================================================\n",
       "Omnibus:                       26.382   Durbin-Watson:                   2.012\n",
       "Prob(Omnibus):                  0.000   Jarque-Bera (JB):               67.894\n",
       "Skew:                           0.462   Prob(JB):                     1.81e-15\n",
       "Kurtosis:                       5.419   Cond. No.                         72.2\n",
       "==============================================================================\n",
       "\n",
       "Warnings:\n",
       "[1] Standard Errors assume that the covariance matrix of the errors is correctly specified.\n",
       "\"\"\""
      ]
     },
     "execution_count": 37,
     "metadata": {},
     "output_type": "execute_result"
    }
   ],
   "source": [
    "import statsmodels.api as sm\n",
    "\n",
    "model = sm.OLS(new['asset1_r'], sm.add_constant(new['benchmark_r']))\n",
    "\n",
    "result = model.fit()\n",
    "result.summary()"
   ]
  },
  {
   "cell_type": "code",
   "execution_count": 53,
   "metadata": {
    "collapsed": false
   },
   "outputs": [
    {
     "data": {
      "image/png": "[encoded data removed]",
      "text/plain": [
       "<matplotlib.figure.Figure at 0x5afd9940>"
      ]
     },
     "metadata": {},
     "output_type": "display_data"
    }
   ],
   "source": [
    "CAPM = result.params[0] + result.params[1]*new['benchmark_r']\n",
    "Diff = new['asset2_r'] - CAPM \n",
    "\n",
    "plt.subplot(2,1,1)\n",
    "plt.plot(CAPM, label='CAPM')\n",
    "plt.plot(new['asset2_r'], label='600036_r')\n",
    "plt.legend(loc='upper left')\n",
    "plt.subplot(2,1,2)\n",
    "plt.bar(new.index, Diff)\n",
    "plt.show()"
   ]
  },
  {
   "cell_type": "markdown",
   "metadata": {},
   "source": [
    "## 如何对模型做方差分析？\n",
    "### 单因素方差分析：\n",
    "\n",
    "计算单大盘指数的因素对股票收益率的影响是否显著。\n",
    "\n",
    "### 析因素方差分析：\n",
    "\n",
    "计算各因素对股票收益率的影响是否显著，并计算其他因子间的影响是否有显著依赖。"
   ]
  },
  {
   "cell_type": "code",
   "execution_count": 75,
   "metadata": {
    "collapsed": false
   },
   "outputs": [
    {
     "name": "stdout",
     "output_type": "stream",
     "text": [
      "                df    sum_sq   mean_sq          F        PR(>F)\n",
      "benchmark_r    1.0  0.011906  0.011906  121.08287  4.380746e-23\n",
      "Residual     241.0  0.023698  0.000098        NaN           NaN\n",
      "                         df    sum_sq   mean_sq           F        PR(>F)\n",
      "asset1_r                1.0  0.016777  0.016777  216.879682  2.278162e-35\n",
      "benchmark_r             1.0  0.000097  0.000097    1.251745  2.643427e-01\n",
      "asset1_r:benchmark_r    1.0  0.000241  0.000241    3.120282  7.859988e-02\n",
      "Residual              239.0  0.018489  0.000077         NaN           NaN\n"
     ]
    }
   ],
   "source": [
    "from statsmodels.formula.api import ols\n",
    "from statsmodels.stats.anova import anova_lm\n",
    "# 单因素分析\n",
    "var_model = ols('asset2_r~benchmark_r', data=new).fit()\n",
    "table = anova_lm(var_model)\n",
    "\n",
    "#析因素分析\n",
    "var_model1 = ols('asset2_r~asset1_r*benchmark_r', data=new).fit()\n",
    "table1 = anova_lm(var_model1)\n",
    "\n",
    "print table\n",
    "print table1"
   ]
  },
  {
   "cell_type": "markdown",
   "metadata": {},
   "source": [
    "## 作业\n",
    "用其他股票做CAPM模型"
   ]
  }
 ],
 "metadata": {
  "kernelspec": {
   "display_name": "Python 2",
   "language": "python",
   "name": "python2"
  },
  "language_info": {
   "codemirror_mode": {
    "name": "ipython",
    "version": 2
   },
   "file_extension": ".py",
   "mimetype": "text/x-python",
   "name": "python",
   "nbconvert_exporter": "python",
   "pygments_lexer": "ipython2",
   "version": "2.7.13"
  }
 },
 "nbformat": 4,
 "nbformat_minor": 2
}
